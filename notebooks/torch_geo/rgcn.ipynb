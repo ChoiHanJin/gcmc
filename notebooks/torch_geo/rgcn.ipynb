{
 "cells": [
  {
   "cell_type": "code",
   "execution_count": 215,
   "metadata": {},
   "outputs": [],
   "source": [
    "import math\n",
    "\n",
    "import torch\n",
    "import torch.nn.functional as F\n",
    "from torch.nn import Parameter as Param\n",
    "from torch_geometric.datasets import Entities\n",
    "from torch_geometric.nn.conv import MessagePassing"
   ]
  },
  {
   "cell_type": "code",
   "execution_count": 216,
   "metadata": {},
   "outputs": [
    {
     "name": "stdout",
     "output_type": "stream",
     "text": [
      "Data(edge_index=[2, 148454], edge_norm=[148454], edge_type=[148454], test_idx=[68], test_y=[68], train_idx=[272], train_y=[272])\n"
     ]
    }
   ],
   "source": [
    "name = 'MUTAG'\n",
    "path = './data/MUTAG'\n",
    "dataset = Entities(path, name)\n",
    "data = dataset[0]\n",
    "print(data)"
   ]
  },
  {
   "cell_type": "code",
   "execution_count": 217,
   "metadata": {},
   "outputs": [],
   "source": [
    "def uniform(size, tensor):\n",
    "    stdv = 1.0 / math.sqrt(size)\n",
    "    if tensor is not None:\n",
    "        tensor.data.uniform_(-stdv, stdv)"
   ]
  },
  {
   "cell_type": "code",
   "execution_count": 218,
   "metadata": {},
   "outputs": [],
   "source": [
    "class RGCNConv(MessagePassing):\n",
    "    r\"\"\"The relational graph convolutional operator from the `\"Modeling\n",
    "    Relational Data with Graph Convolutional Networks\"\n",
    "    <https://arxiv.org/abs/1703.06103>`_ paper\n",
    "\n",
    "    .. math::\n",
    "        \\mathbf{x}^{\\prime}_i = \\mathbf{\\Theta}_0 \\cdot \\mathbf{x}_i +\n",
    "        \\sum_{r \\in \\mathcal{R}} \\sum_{j \\in \\mathcal{N}_r(i)}\n",
    "        \\frac{1}{|\\mathcal{N}_r(i)|} \\mathbf{\\Theta}_r \\cdot \\mathbf{x}_j,\n",
    "\n",
    "    where :math:`\\mathcal{R}` denotes the set of relations, *i.e.* edge types.\n",
    "\n",
    "    Args:\n",
    "        in_channels (int): Size of each input sample.\n",
    "        out_channels (int): Size of each output sample.\n",
    "        num_relations (int): Number of relations.\n",
    "        num_bases (int): Number of bases used for basis-decomposition.\n",
    "        bias (bool, optional): If set to :obj:`False`, the layer will not learn\n",
    "            an additive bias. (default: :obj:`True`)\n",
    "    \"\"\"\n",
    "\n",
    "    def __init__(self,\n",
    "                 in_channels,\n",
    "                 out_channels,\n",
    "                 num_relations,\n",
    "                 num_bases,\n",
    "                 bias=True):\n",
    "        super(RGCNConv, self).__init__()\n",
    "\n",
    "        self.in_channels = in_channels\n",
    "        self.out_channels = out_channels\n",
    "        self.num_relations = num_relations\n",
    "        self.num_bases = num_bases\n",
    "\n",
    "        self.basis = Param(torch.Tensor(num_bases, in_channels, out_channels))\n",
    "        self.att = Param(torch.Tensor(num_relations, num_bases))\n",
    "        self.root = Param(torch.Tensor(in_channels, out_channels))\n",
    "\n",
    "        if bias:\n",
    "            self.bias = Param(torch.Tensor(out_channels))\n",
    "        else:\n",
    "            self.register_parameter('bias', None)\n",
    "\n",
    "        self.reset_parameters()\n",
    "\n",
    "    def reset_parameters(self):\n",
    "        size = self.num_bases * self.in_channels\n",
    "        uniform(size, self.basis)\n",
    "        uniform(size, self.att)\n",
    "        uniform(size, self.root)\n",
    "        uniform(size, self.bias)\n",
    "\n",
    "\n",
    "    def forward(self, x, edge_index, edge_type, edge_norm=None):\n",
    "        print('in_channels: ', self.in_channels)\n",
    "        print('out_channels: ', self.out_channels)\n",
    "        print('num_relations: ', self.num_relations)\n",
    "        print('num_bases: ', self.num_bases)\n",
    "        \n",
    "        print('basis: ', self.basis.shape)\n",
    "        print('att: ', self.att.shape)\n",
    "        print('root: ', self.root.shape)\n",
    "\n",
    "        \"\"\"\"\"\"\n",
    "        if x is None:\n",
    "            x = torch.arange(\n",
    "                edge_index.max().item() + 1,\n",
    "                dtype=torch.long,\n",
    "                device=edge_index.device)\n",
    "\n",
    "        print('x: ', x.shape)\n",
    "        print('edge_index: ', edge_index.shape)\n",
    "        \n",
    "        return self.propagate(\n",
    "            'add', edge_index, x=x, edge_type=edge_type, edge_norm=edge_norm)\n",
    "\n",
    "\n",
    "    def message(self, x_j, edge_type, edge_norm):\n",
    "        w = torch.matmul(self.att, self.basis.view(self.num_bases, -1))\n",
    "        print('w1 ', w.shape)\n",
    "        print('x_j: ', x_j.shape, x_j.min(), x_j.max())\n",
    "        print('edge_type: ', edge_type.shape, edge_type.min(), edge_type.max())\n",
    "        print('edge_norm: ', edge_norm)\n",
    "\n",
    "        # ネットワークの最初の段階で，one-hot vectorを入力した場合\n",
    "        if x_j.dtype == torch.long:\n",
    "            print('torch is long')\n",
    "            w = w.view(-1, self.out_channels)\n",
    "            print('w2: ', w.shape)\n",
    "            index = edge_type * self.in_channels + x_j\n",
    "            print('index: ', index.shape)\n",
    "            out = w[index]\n",
    "            print('out: ', out.shape)\n",
    "            return out if edge_norm is None else out * edge_norm.view(-1, 1)\n",
    "        \n",
    "        # ネットワークの中間層の段階で，中間特徴量を入力した場合\n",
    "        else:\n",
    "            print('torch is not long')\n",
    "            w = w.view(self.num_relations, self.in_channels, self.out_channels)\n",
    "            w = w[edge_type]\n",
    "            out = torch.bmm(x_j.unsqueeze(1), w).squeeze(-2)\n",
    "            return out if edge_norm is None else out * edge_norm.view(-1, 1)\n",
    "\n",
    "    def update(self, aggr_out, x):\n",
    "        # propagateで指定されたaggregateが行われた結果が，aggr_outとしてくる．\n",
    "        print('aggr_out: ', aggr_out.shape, aggr_out.min(), aggr_out.max())\n",
    "        print('x: ', x.shape, x.min(), x.max())\n",
    "        print('root: ', self.root.shape, self.root.min(), self.root.max())\n",
    "        # ネットワークの最初の段階で，one-hot vectorを入力した場合    \n",
    "        if x.dtype == torch.long:\n",
    "            print('self.root[x]: ', self.root[x].shape)\n",
    "            # root[x]を足して，self-loopを別の重みであることを実現している．\n",
    "            # つまり，rootがself-loopのweightを示している．\n",
    "            out = aggr_out + self.root[x]\n",
    "            \n",
    "        # ネットワークの中間層の段階で，中間特徴量を入力した場合\n",
    "        else:\n",
    "            # rootとxをかけて，Wx(self-loop)を行なっている\n",
    "            out = aggr_out + torch.matmul(x, self.root)\n",
    "\n",
    "        if self.bias is not None:\n",
    "            out = out + self.bias\n",
    "        return out\n",
    "\n",
    "    def __repr__(self):\n",
    "        return '{}({}, {}, num_relations={})'.format(\n",
    "            self.__class__.__name__, self.in_channels, self.out_channels,\n",
    "            self.num_relations)\n"
   ]
  },
  {
   "cell_type": "code",
   "execution_count": 219,
   "metadata": {},
   "outputs": [],
   "source": [
    "class Net(torch.nn.Module):\n",
    "    def __init__(self):\n",
    "        super(Net, self).__init__()\n",
    "        self.conv1 = RGCNConv(\n",
    "            data.num_nodes, 16, dataset.num_relations, num_bases=30)\n",
    "        self.conv2 = RGCNConv(\n",
    "            16, dataset.num_classes, dataset.num_relations, num_bases=30)\n",
    "\n",
    "    def forward(self, edge_index, edge_type, edge_norm):\n",
    "        x = F.relu(self.conv1(None, edge_index, edge_type))\n",
    "        print(' ')\n",
    "        x = self.conv2(x, edge_index, edge_type)\n",
    "        return F.log_softmax(x, dim=1)"
   ]
  },
  {
   "cell_type": "code",
   "execution_count": 220,
   "metadata": {},
   "outputs": [],
   "source": [
    "device = torch.device('cuda' if torch.cuda.is_available() else 'cpu')\n",
    "model, data = Net().to(device), data.to(device)\n",
    "optimizer = torch.optim.Adam(model.parameters(), lr=0.01, weight_decay=0.0005)"
   ]
  },
  {
   "cell_type": "code",
   "execution_count": 221,
   "metadata": {},
   "outputs": [],
   "source": [
    "def train():\n",
    "    model.train()\n",
    "    optimizer.zero_grad()\n",
    "    out = model(data.edge_index, data.edge_type, data.edge_norm)\n",
    "    F.nll_loss(out[data.train_idx], data.train_y).backward()\n",
    "    optimizer.step()\n",
    "\n",
    "\n",
    "def test():\n",
    "    model.eval()\n",
    "    out = model(data.edge_index, data.edge_type, data.edge_norm)\n",
    "    pred = out[data.test_idx].max(1)[1]\n",
    "    acc = pred.eq(data.test_y).sum().item() / data.test_y.size(0)\n",
    "    return acc"
   ]
  },
  {
   "cell_type": "code",
   "execution_count": 222,
   "metadata": {},
   "outputs": [
    {
     "name": "stdout",
     "output_type": "stream",
     "text": [
      "in_channels:  23644\n",
      "out_channels:  16\n",
      "num_relations:  46\n",
      "num_bases:  30\n",
      "basis:  torch.Size([30, 23644, 16])\n",
      "att:  torch.Size([46, 30])\n",
      "root:  torch.Size([23644, 16])\n",
      "x:  torch.Size([23644])\n",
      "edge_index:  torch.Size([2, 148454])\n",
      "w1  torch.Size([46, 378304])\n",
      "x_j:  torch.Size([148454]) tensor(0) tensor(23643)\n",
      "edge_type:  torch.Size([148454]) tensor(0) tensor(45)\n",
      "edge_norm:  None\n",
      "torch is long\n",
      "w2:  torch.Size([1087624, 16])\n",
      "index:  torch.Size([148454])\n",
      "out:  torch.Size([148454, 16])\n",
      "aggr_out:  torch.Size([23644, 16]) tensor(-0.0003, grad_fn=<MinBackward1>) tensor(0.0003, grad_fn=<MaxBackward1>)\n",
      "x:  torch.Size([23644]) tensor(0) tensor(23643)\n",
      "root:  torch.Size([23644, 16]) tensor(-0.0012, grad_fn=<MinBackward1>) tensor(0.0012, grad_fn=<MaxBackward1>)\n",
      "self.root[x]:  torch.Size([23644, 16])\n",
      " \n",
      "in_channels:  16\n",
      "out_channels:  2\n",
      "num_relations:  46\n",
      "num_bases:  30\n",
      "basis:  torch.Size([30, 16, 2])\n",
      "att:  torch.Size([46, 30])\n",
      "root:  torch.Size([16, 2])\n",
      "x:  torch.Size([23644, 16])\n",
      "edge_index:  torch.Size([2, 148454])\n",
      "w1  torch.Size([46, 32])\n",
      "x_j:  torch.Size([148454, 16]) tensor(0., grad_fn=<MinBackward1>) tensor(0.0022, grad_fn=<MaxBackward1>)\n",
      "edge_type:  torch.Size([148454]) tensor(0) tensor(45)\n",
      "edge_norm:  None\n",
      "torch is not long\n",
      "aggr_out:  torch.Size([23644, 2]) tensor(-0.0061, grad_fn=<MinBackward1>) tensor(0.0152, grad_fn=<MaxBackward1>)\n",
      "x:  torch.Size([23644, 16]) tensor(0., grad_fn=<MinBackward1>) tensor(0.0022, grad_fn=<MaxBackward1>)\n",
      "root:  torch.Size([16, 2]) tensor(-0.0450, grad_fn=<MinBackward1>) tensor(0.0441, grad_fn=<MaxBackward1>)\n"
     ]
    }
   ],
   "source": [
    "for epoch in range(1):\n",
    "    train()\n",
    "#     test_acc = test()\n",
    "#     print('Epoch: {:02d}, Accuracy: {:.4f}'.format(epoch, test_acc))"
   ]
  },
  {
   "cell_type": "markdown",
   "metadata": {},
   "source": [
    "# Experiment"
   ]
  },
  {
   "cell_type": "code",
   "execution_count": 223,
   "metadata": {},
   "outputs": [],
   "source": [
    "in_c = 100\n",
    "out_c = 10\n",
    "num_relations = 5\n",
    "\n",
    "ord_basis = [Param(torch.Tensor(1, in_c, out_c)) for _ in range(num_relations)]"
   ]
  },
  {
   "cell_type": "code",
   "execution_count": 224,
   "metadata": {},
   "outputs": [
    {
     "data": {
      "text/plain": [
       "5"
      ]
     },
     "execution_count": 224,
     "metadata": {},
     "output_type": "execute_result"
    }
   ],
   "source": [
    "len(ord_basis)"
   ]
  },
  {
   "cell_type": "code",
   "execution_count": 225,
   "metadata": {},
   "outputs": [],
   "source": [
    "tmp, w = 0, 0\n",
    "for relation in range(num_relations):\n",
    "    tmp = ord_basis[relation]\n",
    "    if relation == 0:\n",
    "        w = tmp\n",
    "    else:\n",
    "        w = torch.cat((w, tmp), 0)"
   ]
  },
  {
   "cell_type": "code",
   "execution_count": 226,
   "metadata": {},
   "outputs": [
    {
     "data": {
      "text/plain": [
       "True"
      ]
     },
     "execution_count": 226,
     "metadata": {},
     "output_type": "execute_result"
    }
   ],
   "source": [
    "w.requires_grad"
   ]
  },
  {
   "cell_type": "code",
   "execution_count": 227,
   "metadata": {},
   "outputs": [
    {
     "data": {
      "text/plain": [
       "True"
      ]
     },
     "execution_count": 227,
     "metadata": {},
     "output_type": "execute_result"
    }
   ],
   "source": [
    "ord_basis[0].requires_grad"
   ]
  },
  {
   "cell_type": "code",
   "execution_count": 228,
   "metadata": {},
   "outputs": [
    {
     "data": {
      "text/plain": [
       "torch.Size([2, 148454])"
      ]
     },
     "execution_count": 228,
     "metadata": {},
     "output_type": "execute_result"
    }
   ],
   "source": [
    "data.edge_index.shape"
   ]
  },
  {
   "cell_type": "code",
   "execution_count": 229,
   "metadata": {},
   "outputs": [
    {
     "data": {
      "text/plain": [
       "torch.Size([148454])"
      ]
     },
     "execution_count": 229,
     "metadata": {},
     "output_type": "execute_result"
    }
   ],
   "source": [
    "data.edge_type.shape"
   ]
  },
  {
   "cell_type": "code",
   "execution_count": 230,
   "metadata": {},
   "outputs": [
    {
     "data": {
      "text/plain": [
       "46"
      ]
     },
     "execution_count": 230,
     "metadata": {},
     "output_type": "execute_result"
    }
   ],
   "source": [
    "dataset.num_relations"
   ]
  },
  {
   "cell_type": "code",
   "execution_count": 238,
   "metadata": {},
   "outputs": [],
   "source": [
    "num_node = data.edge_index.max() + 1"
   ]
  },
  {
   "cell_type": "code",
   "execution_count": 262,
   "metadata": {},
   "outputs": [
    {
     "name": "stdout",
     "output_type": "stream",
     "text": [
      "torch.int64 torch.int64\n",
      "tensor(230)\n",
      "{0, 1, 2, 3, 4, 5, 6, 7, 8, 9, 10, 11, 12, 13, 14, 15, 16, 17, 18, 19, 20, 21, 22, 23, 24, 25, 26, 27, 28, 29, 30, 31, 32, 33, 34, 35, 36, 37, 38, 39, 40, 41, 42, 43, 44, 45, 46, 49, 53, 54}\n",
      "46\n",
      "{0, 8, 3, 7}\n",
      "23644\n",
      "Elapsed:  99.88504409790039\n"
     ]
    }
   ],
   "source": [
    "edge = torch.where(data.edge_index == 23000, \n",
    "                   torch.ones(data.edge_index.shape, \n",
    "                              dtype=torch.int64)*dataset.num_relations, \n",
    "                   torch.zeros(data.edge_index.shape, dtype=torch.int64))\n",
    "\n",
    "\n",
    "print(data.edge_index.dtype, edge.dtype)\n",
    "print(torch.sum(edge[0]))\n",
    "\n",
    "relation = data.edge_type + edge[0]\n",
    "\n",
    "import numpy as np\n",
    "print(set(list(np.array(relation))))\n",
    "\n",
    "print(dataset.num_relations)\n",
    "\n",
    "relation = torch.where(relation >= dataset.num_relations, \n",
    "#                        torch.ones(relation.shape, dtype=relation.dtype),\n",
    "                       relation - dataset.num_relations, \n",
    "                       torch.zeros(relation.shape, dtype=relation.dtype))\n",
    "\n",
    "print(set(list(np.array(relation))))\n",
    "\n",
    "# edge_normは最終的に，edges x 1のshapeになる必要がある．\n",
    "# つまり，target_edgeのもつedgeの本数がわかればよく，\n",
    "# target_edges x 1のshapeで要素にnum_edgesが入る．\n",
    "# そこからそれの逆行列を取り，それをoutに通常の乗算を行う．\n",
    "\n",
    "node_norm = torch.zeros(num_node, dtype=data.edge_index.dtype)\n",
    "print(node_norm.size(0))\n",
    "\n",
    "import time\n",
    "\n",
    "start = time.time()\n",
    "for idx in range(node_norm.size(0)):\n",
    "    edge = torch.where(\n",
    "                        data.edge_index == idx,\n",
    "                        torch.ones(data.edge_index.shape,\n",
    "                                   dtype=data.edge_index.dtype),\n",
    "                        torch.zeros(data.edge_index.shape, \n",
    "                                    dtype=data.edge_index.dtype)\n",
    "                        )\n",
    "    \n",
    "    node_norm[idx] = torch.sum(edge)\n",
    "    \n",
    "print('Elapsed: ', time.time() - start)"
   ]
  },
  {
   "cell_type": "code",
   "execution_count": null,
   "metadata": {},
   "outputs": [],
   "source": [
    "print(node_norm.mean())"
   ]
  },
  {
   "cell_type": "code",
   "execution_count": null,
   "metadata": {},
   "outputs": [],
   "source": []
  }
 ],
 "metadata": {
  "kernelspec": {
   "display_name": "Python 3",
   "language": "python",
   "name": "python3"
  },
  "language_info": {
   "codemirror_mode": {
    "name": "ipython",
    "version": 3
   },
   "file_extension": ".py",
   "mimetype": "text/x-python",
   "name": "python",
   "nbconvert_exporter": "python",
   "pygments_lexer": "ipython3",
   "version": "3.6.6"
  }
 },
 "nbformat": 4,
 "nbformat_minor": 2
}

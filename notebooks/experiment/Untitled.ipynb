{
 "cells": [
  {
   "cell_type": "code",
   "execution_count": 4,
   "metadata": {},
   "outputs": [],
   "source": [
    "import torch\n",
    "import torch.nn as nn\n",
    "import torch.optim as optim"
   ]
  },
  {
   "cell_type": "code",
   "execution_count": 41,
   "metadata": {},
   "outputs": [],
   "source": [
    "class Model(nn.Module):\n",
    "    def __init__(self):\n",
    "        super(Model, self).__init__()\n",
    "        self.fc = nn.Linear(3, 5)\n",
    "        \n",
    "    def forward(self, x):\n",
    "        out = self.fc(x)\n",
    "        features = torch.zeros(5, 5)\n",
    "        for idx in range(3):\n",
    "            features[idx] = out[idx]\n",
    "            \n",
    "        return out"
   ]
  },
  {
   "cell_type": "code",
   "execution_count": 42,
   "metadata": {},
   "outputs": [],
   "source": [
    "x = torch.ones(3, 3)\n",
    "gt = torch.ones(3, dtype=torch.long)"
   ]
  },
  {
   "cell_type": "code",
   "execution_count": 43,
   "metadata": {},
   "outputs": [],
   "source": [
    "model = Model()\n",
    "criterion = nn.NLLLoss()\n",
    "optimizer = optim.Adam(model.parameters(), lr=0.1)"
   ]
  },
  {
   "cell_type": "code",
   "execution_count": 52,
   "metadata": {},
   "outputs": [
    {
     "name": "stdout",
     "output_type": "stream",
     "text": [
      "tensor([[ 0.2824,  0.3284, -0.3535, -0.9485,  0.4382],\n",
      "        [ 0.2824,  0.3284, -0.3535, -0.9485,  0.4382],\n",
      "        [ 0.2824,  0.3284, -0.3535, -0.9485,  0.4382]],\n",
      "       grad_fn=<AddmmBackward>)\n",
      "tensor([1, 1, 1])\n",
      "tensor([[ 0.,  0.,  0.],\n",
      "        [-1., -1., -1.],\n",
      "        [ 0.,  0.,  0.],\n",
      "        [ 0.,  0.,  0.],\n",
      "        [ 0.,  0.,  0.]])\n"
     ]
    }
   ],
   "source": [
    "pred = model(x)\n",
    "print(pred)\n",
    "print(gt)\n",
    "print(model.fc.weight.grad)"
   ]
  },
  {
   "cell_type": "code",
   "execution_count": 45,
   "metadata": {},
   "outputs": [
    {
     "name": "stdout",
     "output_type": "stream",
     "text": [
      "Parameter containing:\n",
      "tensor([[ 0.0845, -0.3553,  0.1420],\n",
      "        [-0.2167,  0.1365,  0.0264],\n",
      "        [ 0.1936, -0.3013,  0.2942],\n",
      "        [-0.3549,  0.1580, -0.4965],\n",
      "        [-0.0602, -0.1264,  0.0984]], requires_grad=True)\n",
      "tensor([[ 0.,  0.,  0.],\n",
      "        [-1., -1., -1.],\n",
      "        [ 0.,  0.,  0.],\n",
      "        [ 0.,  0.,  0.],\n",
      "        [ 0.,  0.,  0.]])\n",
      "Parameter containing:\n",
      "tensor([ 0.4112,  0.3822, -0.5400, -0.2552,  0.5264], requires_grad=True)\n",
      "tensor([ 0., -1.,  0.,  0.,  0.])\n"
     ]
    }
   ],
   "source": [
    "optimizer.zero_grad()\n",
    "loss = criterion(pred, gt)\n",
    "loss.backward()\n",
    "optimizer.step()\n",
    "for param in model.parameters():\n",
    "    print(param)\n",
    "    print(param.grad)"
   ]
  },
  {
   "cell_type": "code",
   "execution_count": null,
   "metadata": {},
   "outputs": [],
   "source": []
  }
 ],
 "metadata": {
  "kernelspec": {
   "display_name": "Python 3",
   "language": "python",
   "name": "python3"
  },
  "language_info": {
   "codemirror_mode": {
    "name": "ipython",
    "version": 3
   },
   "file_extension": ".py",
   "mimetype": "text/x-python",
   "name": "python",
   "nbconvert_exporter": "python",
   "pygments_lexer": "ipython3",
   "version": "3.6.6"
  }
 },
 "nbformat": 4,
 "nbformat_minor": 2
}
